{
 "cells": [
  {
   "cell_type": "markdown",
   "id": "a030ca83",
   "metadata": {},
   "source": [
    "### TensorBoard in PaperSpace\n",
    "\n",
    "Docs: https://docs.paperspace.com/gradient/notebooks/tensorboard\n",
    "\n",
    "Run in console:\n",
    "\n",
    "```\n",
    "tensorboard --logdir . --bind_all\n",
    "```\n",
    "\n",
    "Open:"
   ]
  },
  {
   "cell_type": "code",
   "execution_count": null,
   "id": "f1c9a787",
   "metadata": {},
   "outputs": [],
   "source": [
    "NOTEBOOK=\"nolw4352wz\"\n",
    "print(f\"https://tensorboard-{NOTEBOOK}.clg07azjl.paperspacegradient.com\")"
   ]
  },
  {
   "cell_type": "markdown",
   "id": "81e032ab",
   "metadata": {},
   "source": [
    "### Training the model"
   ]
  },
  {
   "cell_type": "code",
   "execution_count": null,
   "id": "b3a05c5b",
   "metadata": {},
   "outputs": [],
   "source": [
    "import src.lightning as l\n",
    "\n",
    "import torch\n",
    "import torch.utils.data as data\n",
    "import pytorch_lightning as pl\n",
    "from pytorch_lightning.callbacks import LearningRateMonitor, ModelCheckpoint, Callback\n",
    "\n",
    "import os\n",
    "import pickle"
   ]
  },
  {
   "cell_type": "code",
   "execution_count": null,
   "id": "74288e5c",
   "metadata": {},
   "outputs": [],
   "source": [
    "from torchtext.datasets import IWSLT2017\n",
    "\n",
    "vocab_path = 'huggingface_vocab.bin'\n",
    "if os.path.exists(vocab_path):\n",
    "    vocab = l.HuggingfaceTranslationVocab.load(vocab_path)\n",
    "else:\n",
    "    vocab = l.HuggingfaceTranslationVocab.default_dokenizer()\n",
    "    vocab.train(IWSLT2017(split='train', language_pair=('en', 'de')))\n",
    "    vocab.save(vocab_path)"
   ]
  },
  {
   "cell_type": "code",
   "execution_count": null,
   "id": "b5e69bf1",
   "metadata": {},
   "outputs": [],
   "source": [
    "indices_path = 'huggingface_iwslt.bin'\n",
    "if os.path.exists(indices_path):\n",
    "    with open(indices_path, \"rb\") as fp:\n",
    "        train, val, test = pickle.load(fp)\n",
    "else:\n",
    "    train = vocab.numericalize(IWSLT2017(split='train', language_pair=('en', 'de')))\n",
    "    val   = vocab.numericalize(IWSLT2017(split='valid', language_pair=('en', 'de')))\n",
    "    test  = vocab.numericalize(IWSLT2017(split='test', language_pair=('en', 'de')))\n",
    "    with open(indices_path, \"wb\") as fp:\n",
    "        pickle.dump((train, val, test), fp)\n",
    "        \n",
    "train, val, test = l.wrap_data(4000, train, val, test)"
   ]
  },
  {
   "cell_type": "code",
   "execution_count": null,
   "id": "15b87698",
   "metadata": {},
   "outputs": [],
   "source": [
    "checkpoint_path = 'checkpoints/iwslt2017'\n",
    "ckpt_path = 'checkpoints/iwslt2017/...'\n",
    "\n",
    "if os.path.exists(ckpt_path):\n",
    "    model = l.LightningSeq2Seq.load_from_checkpoint(ckpt_path, src_vocab=len(en))\n",
    "else:\n",
    "    model = l.LightningSeq2Seq(len(vocab), warmup=4000, N=6, factor=1)"
   ]
  },
  {
   "cell_type": "code",
   "execution_count": null,
   "id": "b6d9c560",
   "metadata": {},
   "outputs": [],
   "source": [
    "trainer = pl.Trainer(\n",
    "    default_root_dir=checkpoint_path,\n",
    "    gpus=1,\n",
    "    max_epochs=50,\n",
    "    callbacks=[\n",
    "        # Save the best checkpoint based on the maximum val_acc recorded. Saves only weights and not optimizer\n",
    "        ModelCheckpoint(\n",
    "            save_weights_only=False, save_top_k=1, save_last=True,\n",
    "            mode=\"min\", monitor=\"val_loss\",\n",
    "            every_n_epochs=1\n",
    "        ),\n",
    "        # Log learning rate every epoch\n",
    "        LearningRateMonitor(\"step\"),\n",
    "        l.LogDistributions()\n",
    "    ],\n",
    "    fast_dev_run=False,\n",
    "    log_every_n_steps=25,\n",
    "    accumulate_grad_batches={0:1, 2:5, 8:10}\n",
    ")"
   ]
  },
  {
   "cell_type": "code",
   "execution_count": null,
   "id": "fac63433",
   "metadata": {},
   "outputs": [],
   "source": [
    "trainer.fit(model, train, val, ckpt_path=ckpt_path if os.path.exists(ckpt_path) else None)"
   ]
  },
  {
   "cell_type": "code",
   "execution_count": null,
   "id": "38a9bcf3",
   "metadata": {},
   "outputs": [],
   "source": [
    "import torch.nn as nn\n",
    "\n",
    "def greedy_decode(seq2seq, src, start_symbol=l.BOS_IDX, max_len=50, padding_idx=0, repeat_allowed=False):\n",
    "    model = seq2seq.model\n",
    "    model.eval()\n",
    "    memory = model.transformer.encoder(model.src_embed(src), src_key_padding_mask=l.paddingmask.padding_mask(src, padding_idx))\n",
    "    \n",
    "    ys = torch.ones(1, 1).fill_(start_symbol).type_as(src.data).to(seq2seq.device)\n",
    "    for _ in range(max_len-1):\n",
    "        out = model.transformer.decoder(model.trg_embed(ys), memory,\n",
    "                                       tgt_mask=nn.Transformer.generate_square_subsequent_mask(ys.size(-1)).to(seq2seq.device),\n",
    "                                       tgt_key_padding_mask=None)\n",
    "        prob = model.generator(out[:, -1])\n",
    "        if not repeat_allowed:\n",
    "            prob[0, ys[0][-1]] = -100 # do not return the same word as the last word in the input\n",
    "        \n",
    "        _, next_word = torch.max(prob, dim = 1)\n",
    "        next_word = next_word.data[0]\n",
    "        ys = torch.cat([ys, \n",
    "                        torch.ones(1, 1).type_as(src.data).fill_(next_word)], dim=1)\n",
    "        if next_word == l.EOS_IDX:\n",
    "            break\n",
    "    return ys\n",
    "\n",
    "def greedy_translate(seq2seq, text, vocabs, tokenizers):\n",
    "    tokenizer,_ = tokenizers\n",
    "    en, de = vocabs\n",
    "    src = torch.LongTensor([l.BOS_IDX] + en(tokenizer(text)) + [l.EOS_IDX]).unsqueeze(0).to(seq2seq.device)\n",
    "    tgt = greedy_decode(seq2seq, src)\n",
    "    tokens = de.lookup_tokens(tgt[0].tolist())\n",
    "    return ' '.join(tokens)\n",
    "    #return tgt"
   ]
  }
 ],
 "metadata": {
  "kernelspec": {
   "display_name": "Python 3 (ipykernel)",
   "language": "python",
   "name": "python3"
  },
  "language_info": {
   "codemirror_mode": {
    "name": "ipython",
    "version": 3
   },
   "file_extension": ".py",
   "mimetype": "text/x-python",
   "name": "python",
   "nbconvert_exporter": "python",
   "pygments_lexer": "ipython3",
   "version": "3.9.7"
  }
 },
 "nbformat": 4,
 "nbformat_minor": 5
}
