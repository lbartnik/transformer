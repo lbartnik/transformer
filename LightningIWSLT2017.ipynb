{
 "cells": [
  {
   "cell_type": "code",
   "execution_count": null,
   "id": "b3a05c5b",
   "metadata": {},
   "outputs": [],
   "source": [
    "import src.lightning as l\n",
    "\n",
    "import torch\n",
    "import torch.utils.data as data\n",
    "import pytorch_lightning as pl\n",
    "from pytorch_lightning.callbacks import LearningRateMonitor, ModelCheckpoint, Callback"
   ]
  },
  {
   "cell_type": "code",
   "execution_count": null,
   "id": "5d46c89a",
   "metadata": {},
   "outputs": [],
   "source": [
    "en, de = l.vocabs()"
   ]
  },
  {
   "cell_type": "code",
   "execution_count": null,
   "id": "2a3c9d15",
   "metadata": {},
   "outputs": [],
   "source": [
    "train, val, test = l.dataloaders((en, de), 100)"
   ]
  },
  {
   "cell_type": "code",
   "execution_count": null,
   "id": "15b87698",
   "metadata": {},
   "outputs": [],
   "source": [
    "model = l.LightningSeq2Seq(len(en), len(de), warmup=400, N=2, factor=1)"
   ]
  },
  {
   "cell_type": "code",
   "execution_count": null,
   "id": "9660c404",
   "metadata": {},
   "outputs": [],
   "source": [
    "checkpoint_path = 'tensorboard/iwslt2017'"
   ]
  },
  {
   "cell_type": "code",
   "execution_count": null,
   "id": "b6d9c560",
   "metadata": {},
   "outputs": [],
   "source": [
    "trainer = pl.Trainer(\n",
    "    default_root_dir=checkpoint_path,\n",
    "    gpus=0,\n",
    "    max_epochs=1,\n",
    "    callbacks=[\n",
    "        # Save the best checkpoint based on the maximum val_acc recorded. Saves only weights and not optimizer\n",
    "        ModelCheckpoint(\n",
    "            save_weights_only=True, mode=\"max\", monitor=\"val_loss\"\n",
    "        ),\n",
    "        # Log learning rate every epoch\n",
    "        LearningRateMonitor(\"step\"),\n",
    "        l.LogDistributions()\n",
    "    ],\n",
    "    fast_dev_run=False,\n",
    "    log_every_n_steps=5,\n",
    "    accumulate_grad_batches=2\n",
    ")"
   ]
  },
  {
   "cell_type": "code",
   "execution_count": null,
   "id": "fac63433",
   "metadata": {},
   "outputs": [],
   "source": [
    "trainer.fit(model, train, val)"
   ]
  }
 ],
 "metadata": {
  "kernelspec": {
   "display_name": "Python 3 (ipykernel)",
   "language": "python",
   "name": "python3"
  },
  "language_info": {
   "codemirror_mode": {
    "name": "ipython",
    "version": 3
   },
   "file_extension": ".py",
   "mimetype": "text/x-python",
   "name": "python",
   "nbconvert_exporter": "python",
   "pygments_lexer": "ipython3",
   "version": "3.9.7"
  }
 },
 "nbformat": 4,
 "nbformat_minor": 5
}
