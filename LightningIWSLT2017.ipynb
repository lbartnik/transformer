{
 "cells": [
  {
   "cell_type": "markdown",
   "id": "fb7d26f2",
   "metadata": {},
   "source": [
    "### TensorBoard in PaperSpace\n",
    "\n",
    "https://docs.paperspace.com/gradient/notebooks/tensorboard"
   ]
  },
  {
   "cell_type": "code",
   "execution_count": null,
   "id": "43072b28",
   "metadata": {},
   "outputs": [],
   "source": [
    "NOTEBOOK=\"nolw4352wz\"\n",
    "print(f\"https://tensorboard-{NOTEBOOK}.clg07azjl.paperspacegradient.com\")"
   ]
  },
  {
   "cell_type": "markdown",
   "id": "5a845674",
   "metadata": {},
   "source": [
    "### Training the model"
   ]
  },
  {
   "cell_type": "code",
   "execution_count": null,
   "id": "b3a05c5b",
   "metadata": {},
   "outputs": [],
   "source": [
    "import src.lightning as l\n",
    "\n",
    "import torch\n",
    "import torch.utils.data as data\n",
    "import pytorch_lightning as pl\n",
    "from pytorch_lightning.callbacks import LearningRateMonitor, ModelCheckpoint, Callback\n",
    "\n",
    "import os"
   ]
  },
  {
   "cell_type": "code",
   "execution_count": null,
   "id": "74288e5c",
   "metadata": {},
   "outputs": [],
   "source": [
    "en, de = l.vocabs()\n",
    "train, val, test = l.batched_data_loaders((en, de), 2000)"
   ]
  },
  {
   "cell_type": "code",
   "execution_count": null,
   "id": "15b87698",
   "metadata": {},
   "outputs": [],
   "source": [
    "checkpoint_path = 'checkpoints/iwslt2017'\n",
    "chkpt_model_path = 'checkpoints/iwslt2017/'\n",
    "\n",
    "if os.path.exists(chkpt_model_path):\n",
    "    model = l.LightningSeq2Seq.load_from_checkpoint(chkpt_model_path, src_vocab=len(en), trg_vocab=len(de))\n",
    "else:\n",
    "    model = l.LightningSeq2Seq(len(en), len(de), warmup=4000, N=6, factor=1)"
   ]
  },
  {
   "cell_type": "code",
   "execution_count": null,
   "id": "b6d9c560",
   "metadata": {},
   "outputs": [],
   "source": [
    "trainer = pl.Trainer(\n",
    "    default_root_dir=checkpoint_path,\n",
    "    gpus=1,\n",
    "    max_epochs=50,\n",
    "    callbacks=[\n",
    "        # Save the best checkpoint based on the maximum val_acc recorded. Saves only weights and not optimizer\n",
    "        ModelCheckpoint(\n",
    "            save_weights_only=False, save_top_k=1,\n",
    "            mode=\"min\", monitor=\"val_loss\",\n",
    "            every_n_epochs=1\n",
    "        ),\n",
    "        # Log learning rate every epoch\n",
    "        LearningRateMonitor(\"step\"),\n",
    "        l.LogDistributions()\n",
    "    ],\n",
    "    fast_dev_run=False,\n",
    "    log_every_n_steps=25,\n",
    "    accumulate_grad_batches=5\n",
    ")"
   ]
  },
  {
   "cell_type": "code",
   "execution_count": null,
   "id": "fac63433",
   "metadata": {},
   "outputs": [],
   "source": [
    "trainer.fit(model, train, val)"
   ]
  }
 ],
 "metadata": {
  "kernelspec": {
   "display_name": "Python 3 (ipykernel)",
   "language": "python",
   "name": "python3"
  },
  "language_info": {
   "codemirror_mode": {
    "name": "ipython",
    "version": 3
   },
   "file_extension": ".py",
   "mimetype": "text/x-python",
   "name": "python",
   "nbconvert_exporter": "python",
   "pygments_lexer": "ipython3",
   "version": "3.9.7"
  }
 },
 "nbformat": 4,
 "nbformat_minor": 5
}
