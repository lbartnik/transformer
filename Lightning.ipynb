{
 "cells": [
  {
   "cell_type": "code",
   "execution_count": 1,
   "id": "282b8608",
   "metadata": {},
   "outputs": [],
   "source": [
    "import src.lightning as l\n",
    "\n",
    "import torch\n",
    "import torch.utils.data as data\n",
    "import pytorch_lightning as pl\n",
    "from pytorch_lightning.callbacks import LearningRateMonitor, ModelCheckpoint"
   ]
  },
  {
   "cell_type": "code",
   "execution_count": 2,
   "id": "3a8f3522",
   "metadata": {},
   "outputs": [],
   "source": [
    "L=10\n",
    "N=10000\n",
    "batch_size=100\n",
    "checkpoint_path='./tensorboard/synth'"
   ]
  },
  {
   "cell_type": "code",
   "execution_count": 3,
   "id": "c6203580",
   "metadata": {},
   "outputs": [],
   "source": [
    "model = l.Transformer(L, L, warmup=50)"
   ]
  },
  {
   "cell_type": "code",
   "execution_count": 4,
   "id": "209ef058",
   "metadata": {},
   "outputs": [],
   "source": [
    "train = data.DataLoader(l.SynthDataset(L, N), batch_size=batch_size)\n",
    "val = data.DataLoader(l.SynthDataset(L, N // 100), batch_size=batch_size)"
   ]
  },
  {
   "cell_type": "code",
   "execution_count": 5,
   "id": "2fe2355f",
   "metadata": {},
   "outputs": [
    {
     "name": "stderr",
     "output_type": "stream",
     "text": [
      "GPU available: False, used: False\n",
      "TPU available: False, using: 0 TPU cores\n",
      "IPU available: False, using: 0 IPUs\n"
     ]
    }
   ],
   "source": [
    "trainer = pl.Trainer(\n",
    "    default_root_dir=checkpoint_path,\n",
    "    gpus=0,\n",
    "    max_epochs=2,\n",
    "    callbacks=[\n",
    "        # Save the best checkpoint based on the maximum val_acc recorded. Saves only weights and not optimizer\n",
    "        ModelCheckpoint(\n",
    "            save_weights_only=True, mode=\"max\", monitor=\"val_acc\"\n",
    "        ),\n",
    "        # Log learning rate every epoch\n",
    "        LearningRateMonitor(\"step\")\n",
    "    ],\n",
    "    fast_dev_run=False\n",
    ")"
   ]
  },
  {
   "cell_type": "code",
   "execution_count": null,
   "id": "4bd5a2be",
   "metadata": {},
   "outputs": [
    {
     "name": "stderr",
     "output_type": "stream",
     "text": [
      "\n",
      "  | Name        | Type        | Params | In sizes                   | Out sizes  \n",
      "---------------------------------------------------------------------------------------\n",
      "0 | src_embed   | Sequential  | 5.1 K  | [1, 4]                     | [1, 4, 512]\n",
      "1 | trg_embed   | Sequential  | 5.1 K  | [1, 4]                     | [1, 4, 512]\n",
      "2 | transformer | Transformer | 44.1 M | [[1, 4, 512], [1, 4, 512]] | [1, 4, 512]\n",
      "3 | generator   | Linear      | 5.1 K  | [1, 4, 512]                | [1, 4, 10] \n",
      "4 | loss_module | NLLLoss     | 0      | ?                          | ?          \n",
      "---------------------------------------------------------------------------------------\n",
      "44.2 M    Trainable params\n",
      "0         Non-trainable params\n",
      "44.2 M    Total params\n",
      "176.624   Total estimated model params size (MB)\n"
     ]
    },
    {
     "data": {
      "application/vnd.jupyter.widget-view+json": {
       "model_id": "",
       "version_major": 2,
       "version_minor": 0
      },
      "text/plain": [
       "Validation sanity check: 0it [00:00, ?it/s]"
      ]
     },
     "metadata": {},
     "output_type": "display_data"
    },
    {
     "name": "stderr",
     "output_type": "stream",
     "text": [
      "/home/lukasz/bin/anaconda3/lib/python3.9/site-packages/pytorch_lightning/trainer/data_loading.py:132: UserWarning: The dataloader, val_dataloader 0, does not have many workers which may be a bottleneck. Consider increasing the value of the `num_workers` argument` (try 4 which is the number of cpus on this machine) in the `DataLoader` init to improve performance.\n",
      "  rank_zero_warn(\n",
      "/home/lukasz/bin/anaconda3/lib/python3.9/site-packages/pytorch_lightning/trainer/data_loading.py:132: UserWarning: The dataloader, train_dataloader, does not have many workers which may be a bottleneck. Consider increasing the value of the `num_workers` argument` (try 4 which is the number of cpus on this machine) in the `DataLoader` init to improve performance.\n",
      "  rank_zero_warn(\n"
     ]
    },
    {
     "data": {
      "application/vnd.jupyter.widget-view+json": {
       "model_id": "b44d6c304c0846db8af1b0c86ed0b21f",
       "version_major": 2,
       "version_minor": 0
      },
      "text/plain": [
       "Training: 0it [00:00, ?it/s]"
      ]
     },
     "metadata": {},
     "output_type": "display_data"
    },
    {
     "data": {
      "application/vnd.jupyter.widget-view+json": {
       "model_id": "",
       "version_major": 2,
       "version_minor": 0
      },
      "text/plain": [
       "Validating: 0it [00:00, ?it/s]"
      ]
     },
     "metadata": {},
     "output_type": "display_data"
    }
   ],
   "source": [
    "trainer.fit(model, train, val)"
   ]
  },
  {
   "cell_type": "code",
   "execution_count": null,
   "id": "f37e8c6e",
   "metadata": {},
   "outputs": [],
   "source": [
    "%load_ext tensorboard"
   ]
  },
  {
   "cell_type": "code",
   "execution_count": null,
   "id": "60e05d95",
   "metadata": {},
   "outputs": [],
   "source": [
    "%tensorboard --logdir ./tensorboard/synth"
   ]
  },
  {
   "cell_type": "code",
   "execution_count": null,
   "id": "ad670a87",
   "metadata": {},
   "outputs": [],
   "source": []
  }
 ],
 "metadata": {
  "kernelspec": {
   "display_name": "Python 3 (ipykernel)",
   "language": "python",
   "name": "python3"
  },
  "language_info": {
   "codemirror_mode": {
    "name": "ipython",
    "version": 3
   },
   "file_extension": ".py",
   "mimetype": "text/x-python",
   "name": "python",
   "nbconvert_exporter": "python",
   "pygments_lexer": "ipython3",
   "version": "3.9.7"
  }
 },
 "nbformat": 4,
 "nbformat_minor": 5
}
