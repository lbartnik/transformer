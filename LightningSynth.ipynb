{
 "cells": [
  {
   "cell_type": "code",
   "execution_count": null,
   "id": "52534a8e",
   "metadata": {},
   "outputs": [],
   "source": [
    "import src.lightning as l\n",
    "\n",
    "import torch\n",
    "import torch.utils.data as data\n",
    "import pytorch_lightning as pl\n",
    "from pytorch_lightning.callbacks import LearningRateMonitor, ModelCheckpoint\n",
    "import os"
   ]
  },
  {
   "cell_type": "code",
   "execution_count": null,
   "id": "4f046b9c",
   "metadata": {},
   "outputs": [],
   "source": [
    "L=10\n",
    "N=1000\n",
    "batch_size=50\n",
    "ckpt_path  = './checkpoints/synth'\n",
    "ckpt_model = './checkpoints/synth/...'"
   ]
  },
  {
   "cell_type": "code",
   "execution_count": null,
   "id": "0a073c63",
   "metadata": {},
   "outputs": [],
   "source": [
    "model = l.LightningSeq2Seq(L, L, warmup=200, N=2, factor=.1)"
   ]
  },
  {
   "cell_type": "code",
   "execution_count": null,
   "id": "64c41c19",
   "metadata": {},
   "outputs": [],
   "source": [
    "train = data.DataLoader(l.SynthDataset(L, N), batch_size=batch_size)\n",
    "val = data.DataLoader(l.SynthDataset(L, N // 100), batch_size=batch_size)"
   ]
  },
  {
   "cell_type": "code",
   "execution_count": null,
   "id": "e77d095d",
   "metadata": {},
   "outputs": [],
   "source": [
    "trainer = pl.Trainer(\n",
    "    default_root_dir=ckpt_path,\n",
    "    gpus=0,\n",
    "    max_epochs=3,\n",
    "    callbacks=[\n",
    "        # Save the best checkpoint based on the maximum val_acc recorded. Saves only weights and not optimizer\n",
    "        ModelCheckpoint(\n",
    "            save_weights_only=False, save_top_k=1,\n",
    "            mode=\"min\", monitor=\"val_loss\",\n",
    "            every_n_epochs=1\n",
    "        ),\n",
    "        # Log learning rate every epoch\n",
    "        LearningRateMonitor(\"step\"),\n",
    "        l.LogDistributions()\n",
    "    ],\n",
    "    fast_dev_run=False\n",
    ")"
   ]
  },
  {
   "cell_type": "code",
   "execution_count": null,
   "id": "bf6d6f3a",
   "metadata": {},
   "outputs": [],
   "source": [
    "trainer.fit(model, train, val, ckpt_path=ckpt_model if os.path.exists(ckpt_model) else None)"
   ]
  },
  {
   "cell_type": "code",
   "execution_count": null,
   "id": "23c5448a",
   "metadata": {},
   "outputs": [],
   "source": [
    "%load_ext tensorboard"
   ]
  },
  {
   "cell_type": "code",
   "execution_count": null,
   "id": "f2d94fee",
   "metadata": {
    "scrolled": true
   },
   "outputs": [],
   "source": [
    "%tensorboard --logdir ./checkpoints/synth"
   ]
  },
  {
   "cell_type": "code",
   "execution_count": null,
   "id": "a6af0ce2",
   "metadata": {},
   "outputs": [],
   "source": [
    "import torch.nn as nn\n",
    "\n",
    "def greedy_decode(self, src, start_symbol, max_len=50, padding_idx=0, repeat_allowed=False):\n",
    "    memory = self.transformer.encoder(self.src_embed(src), src_key_padding_mask=padding_mask(src, padding_idx))\n",
    "    ys = torch.ones(1, 1).fill_(start_symbol).type_as(src.data)\n",
    "\n",
    "    for _ in range(max_len-1):\n",
    "        out = self.transformer.decoder(self.trg_embed(ys), memory,\n",
    "                                       tgt_mask=nn.Transformer.generate_square_subsequent_mask(ys.size(-1)),\n",
    "                                       tgt_key_padding_mask=None)\n",
    "        prob = self.generator(out[:, -1])\n",
    "        if not repeat_allowed:\n",
    "            prob[0, ys[0][-1]] = -100 # do not return the same word as the last word in the input\n",
    "        \n",
    "        _, next_word = torch.max(prob, dim = 1)\n",
    "        next_word = next_word.data[0]\n",
    "        ys = torch.cat([ys, \n",
    "                        torch.ones(1, 1).type_as(src.data).fill_(next_word)], dim=1)\n",
    "    return ys"
   ]
  },
  {
   "cell_type": "code",
   "execution_count": null,
   "id": "b9b89dfe",
   "metadata": {},
   "outputs": [],
   "source": [
    "greedy_decode(model.model, torch.tensor([[1,3,5,7,9,2,4,6,8]]), 1, 9, repeat_allowed=True)"
   ]
  },
  {
   "cell_type": "code",
   "execution_count": null,
   "id": "1731bfc3",
   "metadata": {},
   "outputs": [],
   "source": [
    "x[:,-1].shape"
   ]
  }
 ],
 "metadata": {
  "kernelspec": {
   "display_name": "Python 3 (ipykernel)",
   "language": "python",
   "name": "python3"
  },
  "language_info": {
   "codemirror_mode": {
    "name": "ipython",
    "version": 3
   },
   "file_extension": ".py",
   "mimetype": "text/x-python",
   "name": "python",
   "nbconvert_exporter": "python",
   "pygments_lexer": "ipython3",
   "version": "3.9.7"
  }
 },
 "nbformat": 4,
 "nbformat_minor": 5
}
